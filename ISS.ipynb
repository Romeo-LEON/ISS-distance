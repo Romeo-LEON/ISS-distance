{
  "nbformat": 4,
  "nbformat_minor": 0,
  "metadata": {
    "colab": {
      "name": "ISS.ipynb",
      "provenance": [],
      "collapsed_sections": [],
      "authorship_tag": "ABX9TyN/B4lx1fnTP3Ewbnv1pUzy"
    },
    "kernelspec": {
      "name": "python3",
      "display_name": "Python 3"
    }
  },
  "cells": [
    {
      "cell_type": "code",
      "metadata": {
        "id": "onyx9iSnn7N0"
      },
      "source": [
        "import geopy\n",
        "from geopy.geocoders import Nominatim\n",
        "from haversine import haversine\n",
        "import requests\n",
        "import time\n",
        "from datetime import datetime\n",
        "import publicip\n",
        "\n",
        "#Get Lat & Long from an address\n",
        "geolocator = Nominatim(user_agent=str(publicip.get()))\n",
        "location = geolocator.geocode(\"1 place bellecour 69002\")\n",
        "\n",
        "home = (location.latitude, location.longitude)\n",
        "\n",
        "#Create a loop that return every 5 second the time, location of the ISS and its distance from a given position\n",
        "\n",
        "while 0 != 1:\n",
        "  time.sleep(5)\n",
        "  #Requests the ISS API\n",
        "  response = requests.get('http://api.open-notify.org/iss-now.json')\n",
        "  response_d = response.json()\n",
        "\n",
        "  #Return only the values from the API response\n",
        "  values = response_d['iss_position'].values()\n",
        "  position = {str(x) for x in values}\n",
        "  position = {float(x) for x in position}\n",
        "  \n",
        "  #Compute the distance between a given location and the ISS\n",
        "  distance = haversine(home,position)\n",
        "  \n",
        "  timestamp = response_d['timestamp']\n",
        "  date = datetime.fromtimestamp(timestamp)\n",
        "   \n",
        "  print('The current time is {}, the ISS is located at {} \\nand {} KM away from {}'.format(date,response_d['iss_position'],round(distance,0),location.address))\n"
      ],
      "execution_count": null,
      "outputs": []
    },
    {
      "cell_type": "code",
      "metadata": {
        "id": "KhQx99-G7ye0"
      },
      "source": [
        ""
      ],
      "execution_count": null,
      "outputs": []
    }
  ]
}